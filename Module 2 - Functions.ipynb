{
 "cells": [
  {
   "cell_type": "markdown",
   "metadata": {},
   "source": [
    "# Module 2 - Functions"
   ]
  },
  {
   "cell_type": "markdown",
   "metadata": {},
   "source": [
    "## Module 2 Section 1: Simple Functions\n",
    "### Calling Functions with Arguments"
   ]
  },
  {
   "cell_type": "code",
   "execution_count": 1,
   "metadata": {},
   "outputs": [
    {
     "name": "stdout",
     "output_type": "stream",
     "text": [
      "Hello world\n",
      "\n",
      "Hello\n"
     ]
    }
   ],
   "source": [
    "# The print statement can take zero or more arguments.\n",
    "print(\"Hello\", \"world\")\n",
    "print()\n",
    "print(\"Hello\")"
   ]
  },
  {
   "cell_type": "markdown",
   "metadata": {},
   "source": [
    "In the above example we see that the print function can indeed take no arguments or it can also take many arguments. This function is special because you can actually pass as many arguments in it as you need.    \n",
    "Each function is different although, so don't think that you can just pass any number of arguments to any function. If you do pass too many arguments in a function, or less than it needs, you will get an error saying so. Example bellow."
   ]
  },
  {
   "cell_type": "code",
   "execution_count": 2,
   "metadata": {},
   "outputs": [
    {
     "data": {
      "text/plain": [
       "float"
      ]
     },
     "execution_count": 2,
     "metadata": {},
     "output_type": "execute_result"
    }
   ],
   "source": [
    "# The type() function will only take ONE argument\n",
    "type(22.5)"
   ]
  },
  {
   "cell_type": "code",
   "execution_count": 3,
   "metadata": {},
   "outputs": [
    {
     "ename": "TypeError",
     "evalue": "type() takes 1 or 3 arguments",
     "output_type": "error",
     "traceback": [
      "\u001b[0;31m---------------------------------------------------------------------------\u001b[0m",
      "\u001b[0;31mTypeError\u001b[0m                                 Traceback (most recent call last)",
      "\u001b[0;32m<ipython-input-3-c4be5730277d>\u001b[0m in \u001b[0;36m<module>\u001b[0;34m()\u001b[0m\n\u001b[1;32m      1\u001b[0m \u001b[0;31m# Will give a TypeError\u001b[0m\u001b[0;34m\u001b[0m\u001b[0;34m\u001b[0m\u001b[0m\n\u001b[0;32m----> 2\u001b[0;31m \u001b[0mtype\u001b[0m\u001b[0;34m(\u001b[0m\u001b[0;34m\"string\"\u001b[0m\u001b[0;34m,\u001b[0m \u001b[0;36m22.5\u001b[0m\u001b[0;34m)\u001b[0m\u001b[0;34m\u001b[0m\u001b[0m\n\u001b[0m",
      "\u001b[0;31mTypeError\u001b[0m: type() takes 1 or 3 arguments"
     ]
    }
   ],
   "source": [
    "# Will give a TypeError\n",
    "type(\"string\", 22.5)"
   ]
  },
  {
   "cell_type": "markdown",
   "metadata": {},
   "source": [
    "### Create a Simple Function\n",
    "Creating user defined functions is at the core of computer programming. Functions enable code reuse and make code easier to develop and maintain."
   ]
  },
  {
   "cell_type": "markdown",
   "metadata": {},
   "source": [
    "As you can see from the example function bellow, there are a few things that need to be explained.    \n",
    "When you want to create a function in Python, you first have to type the keyword \"def\". This word tells Python that you are creating a function.     \n",
    "After that, you have to specify the function name. In the case of the function bellow, it is \"say_hi\".     \n",
    "Then you see paranthesis. These are used to specify the arguments that the function needs to take. In this example, the function doesn't need to take any arguments to run.      \n",
    "Finally in the end of that first line you see a colon. This colon is very special in Python. The colon tells the Python interpreter that the code bellow it *(that is indented)* is part of the function defined. A big thing about this is that the code bellow defining the function needs to be indented by 4 spaces, or a tab, to be considered part of the function.      \n",
    "*__Note: A function name cannot start with a number!__*"
   ]
  },
  {
   "cell_type": "code",
   "execution_count": 4,
   "metadata": {},
   "outputs": [],
   "source": [
    "# Defining a function \"say_hi\" that prints out two messages.\n",
    "def say_hi():\n",
    "    print(\"Hello there!\")\n",
    "    print(\"Goodbye!\")"
   ]
  },
  {
   "cell_type": "markdown",
   "metadata": {},
   "source": [
    "Now I ran the above code but as you can see....nothing happened.    \n",
    "This is because after you define the function you have to tell it to run. This is good because you program could have 500 functions, but you may not want them to run one after the other in the way they were written. Instead you may want them to run at different times during the program.      \n",
    "To run the above program I just have to call it by using it's name \"say_hi\" with parethesis after it, just like it is show bellow."
   ]
  },
  {
   "cell_type": "code",
   "execution_count": 5,
   "metadata": {},
   "outputs": [
    {
     "name": "stdout",
     "output_type": "stream",
     "text": [
      "Hello there!\n",
      "Goodbye!\n"
     ]
    }
   ],
   "source": [
    "say_hi()"
   ]
  },
  {
   "cell_type": "markdown",
   "metadata": {},
   "source": [
    "When you call a function, the paranthesis after the function name will either be empty (if the function doesn't have any parameters/arguments), or it will contain the arguments that are needed for that function.    \n",
    "So what happens if the function has a line that is not indented? We can see an example below."
   ]
  },
  {
   "cell_type": "code",
   "execution_count": 6,
   "metadata": {},
   "outputs": [
    {
     "name": "stdout",
     "output_type": "stream",
     "text": [
      "My name is Rodrigo.\n"
     ]
    }
   ],
   "source": [
    "def say_hello():\n",
    "    print(\"Hello!!!\")\n",
    "print(\"My name is Rodrigo.\")"
   ]
  },
  {
   "cell_type": "markdown",
   "metadata": {},
   "source": [
    "As you can see by the above code, the last print statement ran without calling the function. This is because it was not indented like the print statement above it, to indicate that it is still part of the function."
   ]
  },
  {
   "cell_type": "markdown",
   "metadata": {},
   "source": [
    "### Function Parameters\n",
    "Now we are going to make a function that take an argument/parameter to execute correctly.      \n",
    "We define the function in the same way, but in the paranthesis we write the variable name that we want to use in the function to call that argument inside of the function."
   ]
  },
  {
   "cell_type": "code",
   "execution_count": 7,
   "metadata": {},
   "outputs": [],
   "source": [
    "def say_hello(name):\n",
    "    print(\"Hello\", name, \"how are you?\")"
   ]
  },
  {
   "cell_type": "markdown",
   "metadata": {},
   "source": [
    "In the extremely simple example function above, we are asking to pass a parameter \"name\" to the function and then using it in the actual function.     \n",
    "So if we need to call this function we first have to define a variable that we can pass to the function as its parameter."
   ]
  },
  {
   "cell_type": "code",
   "execution_count": 8,
   "metadata": {},
   "outputs": [
    {
     "name": "stdout",
     "output_type": "stream",
     "text": [
      "Hello Rodrigo how are you?\n"
     ]
    }
   ],
   "source": [
    "# Define a variable with my name\n",
    "name = \"Rodrigo\"\n",
    "\n",
    "# Call the function passing the variable in the paranthesis\n",
    "say_hello(name)"
   ]
  },
  {
   "cell_type": "markdown",
   "metadata": {},
   "source": [
    "As you see, the above example worked!    \n",
    "Something to note, the variable name that you use outside of the function does not have to be the same as the one on the parameter of the function. But inside the function, you have to use the variable name that was defined with the function parameters.      \n",
    "Example below."
   ]
  },
  {
   "cell_type": "code",
   "execution_count": 9,
   "metadata": {},
   "outputs": [
    {
     "name": "stdout",
     "output_type": "stream",
     "text": [
      "Hello Rodrigo how are you?\n"
     ]
    }
   ],
   "source": [
    "# Making another variable not called \"name\"\n",
    "my_name = \"Rodrigo\"\n",
    "\n",
    "# Passing that new variable to the function\n",
    "say_hello(my_name)"
   ]
  },
  {
   "cell_type": "markdown",
   "metadata": {},
   "source": [
    "You can also just pass in the string into the variable."
   ]
  },
  {
   "cell_type": "code",
   "execution_count": 10,
   "metadata": {},
   "outputs": [
    {
     "name": "stdout",
     "output_type": "stream",
     "text": [
      "Hello Rodrigo how are you?\n"
     ]
    }
   ],
   "source": [
    "say_hello(\"Rodrigo\")"
   ]
  },
  {
   "cell_type": "markdown",
   "metadata": {},
   "source": [
    "### Default Argument\n",
    "You can also pass a default value as a parameter for a function. This is done by making the variable name, that is used for the parameter of the function, equal to something. This means that if you run the function without any parameters, it will default to that value."
   ]
  },
  {
   "cell_type": "code",
   "execution_count": 11,
   "metadata": {},
   "outputs": [],
   "source": [
    "# Creating a function that will make the parameter all uppercase and print it out\n",
    "def yell_this(phrase = \"good morning\"):\n",
    "    print(phrase.upper() + \"!!!\")"
   ]
  },
  {
   "cell_type": "markdown",
   "metadata": {},
   "source": [
    "As you can see from the above function, inside the paranthesis we made phrase equal to \"good morning\". So if we don't pass any parameter to the function it will print out \"GOOD MORNING!!!\" but we can always just pass a different parameter."
   ]
  },
  {
   "cell_type": "code",
   "execution_count": 12,
   "metadata": {},
   "outputs": [
    {
     "name": "stdout",
     "output_type": "stream",
     "text": [
      "HELLO!!!\n"
     ]
    }
   ],
   "source": [
    "# Calling the function with a parameter\n",
    "yell_this(\"hello\")"
   ]
  },
  {
   "cell_type": "code",
   "execution_count": 13,
   "metadata": {},
   "outputs": [
    {
     "name": "stdout",
     "output_type": "stream",
     "text": [
      "GOOD MORNING!!!\n"
     ]
    }
   ],
   "source": [
    "# Calling the function without a parameter\n",
    "yell_this()"
   ]
  },
  {
   "cell_type": "markdown",
   "metadata": {},
   "source": [
    "## Module 2 Section 2 - Function Return & Multi-parameters"
   ]
  },
  {
   "cell_type": "code",
   "execution_count": null,
   "metadata": {},
   "outputs": [],
   "source": []
  }
 ],
 "metadata": {
  "kernelspec": {
   "display_name": "Python 3",
   "language": "python",
   "name": "python3"
  },
  "language_info": {
   "codemirror_mode": {
    "name": "ipython",
    "version": 3
   },
   "file_extension": ".py",
   "mimetype": "text/x-python",
   "name": "python",
   "nbconvert_exporter": "python",
   "pygments_lexer": "ipython3",
   "version": "3.6.3"
  }
 },
 "nbformat": 4,
 "nbformat_minor": 2
}
