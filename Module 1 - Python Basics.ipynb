{
 "cells": [
  {
   "cell_type": "markdown",
   "metadata": {},
   "source": [
    "# Module 1: Python Basics\n",
    "\n",
    "## Module 1 Section 1: Hello World & Comments\n",
    "\n",
    "Hello World is the easiest program to write that shows how Python outputs a string."
   ]
  },
  {
   "cell_type": "code",
   "execution_count": 1,
   "metadata": {
    "scrolled": false
   },
   "outputs": [
    {
     "name": "stdout",
     "output_type": "stream",
     "text": [
      "Hello World\n"
     ]
    }
   ],
   "source": [
    "print(\"Hello World\")\n",
    "# Prints out 'Hello World' in Python 3"
   ]
  },
  {
   "cell_type": "markdown",
   "metadata": {},
   "source": [
    "In the above code, we show how Python 3 outputs a string as well as how comments are written in Python.\n",
    "\n",
    "Comments start with the '#' symbol, and are used by programmers to put context around the code so that when other programmers look at their code it is easier to understand why the code was written that way.\n"
   ]
  },
  {
   "cell_type": "markdown",
   "metadata": {},
   "source": [
    "### Strings\n",
    "Stings are any characters that are inside quotes(single or double)."
   ]
  },
  {
   "cell_type": "code",
   "execution_count": 2,
   "metadata": {
    "scrolled": true
   },
   "outputs": [
    {
     "data": {
      "text/plain": [
       "'ABCD abcd 1234 !@#$'"
      ]
     },
     "execution_count": 2,
     "metadata": {},
     "output_type": "execute_result"
    }
   ],
   "source": [
    "\"ABCD abcd 1234 !@#$\"  # This is a string in double quotes"
   ]
  },
  {
   "cell_type": "code",
   "execution_count": 3,
   "metadata": {},
   "outputs": [
    {
     "data": {
      "text/plain": [
       "'This is another string'"
      ]
     },
     "execution_count": 3,
     "metadata": {},
     "output_type": "execute_result"
    }
   ],
   "source": [
    "'This is another string'  # This string is in single quotes"
   ]
  },
  {
   "cell_type": "code",
   "execution_count": 4,
   "metadata": {},
   "outputs": [
    {
     "ename": "SyntaxError",
     "evalue": "EOL while scanning string literal (<ipython-input-4-570a17e65327>, line 2)",
     "output_type": "error",
     "traceback": [
      "\u001b[0;36m  File \u001b[0;32m\"<ipython-input-4-570a17e65327>\"\u001b[0;36m, line \u001b[0;32m2\u001b[0m\n\u001b[0;31m    \"This string is not going to work'\u001b[0m\n\u001b[0m                                      ^\u001b[0m\n\u001b[0;31mSyntaxError\u001b[0m\u001b[0;31m:\u001b[0m EOL while scanning string literal\n"
     ]
    }
   ],
   "source": [
    "# This string is not formatted correctly\n",
    "\"This string is not going to work'"
   ]
  },
  {
   "cell_type": "markdown",
   "metadata": {},
   "source": [
    "The above string threw a SyntaxError! This syntax error is returned because the string has double quotes at the begining and single quotes at the end.  \n",
    "**A string is only valid when both the begining and ending quotes are the same!**\n"
   ]
  },
  {
   "cell_type": "markdown",
   "metadata": {},
   "source": [
    "### Integers\n",
    "Integers are whole numbers, both positive and negative, that are not in quotes."
   ]
  },
  {
   "cell_type": "code",
   "execution_count": 5,
   "metadata": {},
   "outputs": [
    {
     "data": {
      "text/plain": [
       "-123"
      ]
     },
     "execution_count": 5,
     "metadata": {},
     "output_type": "execute_result"
    }
   ],
   "source": [
    "# This is a negative integer\n",
    "-123"
   ]
  },
  {
   "cell_type": "code",
   "execution_count": 6,
   "metadata": {},
   "outputs": [
    {
     "data": {
      "text/plain": [
       "'-123'"
      ]
     },
     "execution_count": 6,
     "metadata": {},
     "output_type": "execute_result"
    }
   ],
   "source": [
    "# This is a string representation of the same negative integer\n",
    "\"-123\""
   ]
  },
  {
   "cell_type": "markdown",
   "metadata": {},
   "source": [
    "A clear way to know which one of those two outputs are integers or strings is to see if they have quotations around the numbers.  \n",
    "**It really does matter which one you use! So know the difference.**"
   ]
  },
  {
   "cell_type": "markdown",
   "metadata": {},
   "source": [
    "## Module 1 Section 2: Types & Variables & Module 1 Section 3: Type Function\n",
    "\n",
    "### Variables & Data Types\n",
    "Variables are used in programming so that values don't have to be retyped and can be reused throughout the code.\n",
    "For example, let's say that you are writing a software that adds up products sold and then adds the sales tax and outputs the total. In this software you may have to write, in multiple lines, what the sales tax percentage is. However, what if the the sales tax goes up... Then you are stuck looking through the whole file and changing every single instance of the sales tax.  \n",
    "Because of this programmers use variables. You can set a variable \"*sales_tax*\" at the begining of the file and then you reference (call) that variable throughout the code. So if you have to change the value of the sales tax you only have to change it in one spot.\n",
    "\n",
    "Variable are declared by puting descriptive word(s) on the left of an equal sign, and the value that will be assigned to that variable to the right of the equals sign."
   ]
  },
  {
   "cell_type": "code",
   "execution_count": 7,
   "metadata": {},
   "outputs": [
    {
     "data": {
      "text/plain": [
       "'Rodrigo'"
      ]
     },
     "execution_count": 7,
     "metadata": {},
     "output_type": "execute_result"
    }
   ],
   "source": [
    "# Declaration of variables\n",
    "name = \"Rodrigo\"\n",
    "name"
   ]
  },
  {
   "cell_type": "markdown",
   "metadata": {},
   "source": [
    "Variable in Python can contain any data type (integers, strings, booleans, floats).\n",
    "The example above assigns my name, which is a string, to the variable \"*name*\" then calls the variable which outputs the string 'Rodrigo'.    \n",
    "Variable **can** be changed although."
   ]
  },
  {
   "cell_type": "code",
   "execution_count": 8,
   "metadata": {},
   "outputs": [
    {
     "data": {
      "text/plain": [
       "'Rodrigo Luzuriaga'"
      ]
     },
     "execution_count": 8,
     "metadata": {},
     "output_type": "execute_result"
    }
   ],
   "source": [
    "# Changing variable name from first name to full name\n",
    "name = \"Rodrigo Luzuriaga\"\n",
    "name"
   ]
  },
  {
   "cell_type": "markdown",
   "metadata": {},
   "source": [
    "In the code above I reassigned the string in the variable to contain my full name, and then called the variable again to show that it did change."
   ]
  },
  {
   "cell_type": "markdown",
   "metadata": {},
   "source": [
    "Variables in Python do behave differently than in some other programming languages.  \n",
    "In Python, variable can have different data types assigned to them throughout the code."
   ]
  },
  {
   "cell_type": "markdown",
   "metadata": {},
   "source": [
    "The following code will change the value of \"*name*\" from a string to a number."
   ]
  },
  {
   "cell_type": "code",
   "execution_count": 9,
   "metadata": {},
   "outputs": [
    {
     "data": {
      "text/plain": [
       "1234"
      ]
     },
     "execution_count": 9,
     "metadata": {},
     "output_type": "execute_result"
    }
   ],
   "source": [
    "# Name will go from being a string to a number\n",
    "name = 1234\n",
    "name"
   ]
  },
  {
   "cell_type": "markdown",
   "metadata": {},
   "source": [
    "The code above doesn't really make since, since a name is usually a string and not an integer, but it is just to prove that a variable can be changed from one data type to another after it is already declared.  \n",
    "**Be careful that you don't accidentally change a variable's value in the middle of your code, because that can cause errors in the code.**"
   ]
  },
  {
   "cell_type": "markdown",
   "metadata": {
    "collapsed": true
   },
   "source": [
    "### Floats & Type()\n",
    "Floats are numbers with a floating decimal point. For example, 3.14 is a float. Any number that contains a decimal point is a float.   \n",
    "**Floats are not the same thing as integers!**   \n",
    "   \n",
    "The function <u>type()</u> can be used to deternime the data type of any input."
   ]
  },
  {
   "cell_type": "code",
   "execution_count": 10,
   "metadata": {},
   "outputs": [
    {
     "data": {
      "text/plain": [
       "str"
      ]
     },
     "execution_count": 10,
     "metadata": {},
     "output_type": "execute_result"
    }
   ],
   "source": [
    "# Passing a string into type()\n",
    "type(\"Rodrigo\")"
   ]
  },
  {
   "cell_type": "code",
   "execution_count": 11,
   "metadata": {},
   "outputs": [
    {
     "data": {
      "text/plain": [
       "int"
      ]
     },
     "execution_count": 11,
     "metadata": {},
     "output_type": "execute_result"
    }
   ],
   "source": [
    "# Passing an integer into type()\n",
    "type(1234)"
   ]
  },
  {
   "cell_type": "code",
   "execution_count": 12,
   "metadata": {},
   "outputs": [
    {
     "data": {
      "text/plain": [
       "float"
      ]
     },
     "execution_count": 12,
     "metadata": {},
     "output_type": "execute_result"
    }
   ],
   "source": [
    "# Passing a float into type()\n",
    "type(3.14)"
   ]
  },
  {
   "cell_type": "markdown",
   "metadata": {},
   "source": [
    "As you can see the above code prints out the correct data type for the value passed into the function.   \n",
    "You can use this function when trying to figure out what data type some value is.   \n",
    "However, this way of using <u>type()</u> is very simple, and not used very often. Usually you would want to figure out what data type is assigned to a variable, like the example below."
   ]
  },
  {
   "cell_type": "code",
   "execution_count": 13,
   "metadata": {},
   "outputs": [],
   "source": [
    "# Assign my name (a string) to the variable full_name\n",
    "full_name = \"Rodrigo Luzuriaga\""
   ]
  },
  {
   "cell_type": "code",
   "execution_count": 14,
   "metadata": {},
   "outputs": [
    {
     "data": {
      "text/plain": [
       "str"
      ]
     },
     "execution_count": 14,
     "metadata": {},
     "output_type": "execute_result"
    }
   ],
   "source": [
    "# Check the data type of \"full_name\"\n",
    "type(full_name)"
   ]
  },
  {
   "cell_type": "markdown",
   "metadata": {
    "collapsed": true
   },
   "source": [
    "## Module 1 Section 4: Addition & Errors\n",
    "### Addition: numbers and strings\n",
    "* __Math addition:__ number addition with +\n",
    "* __String Concatenation:__ combining strings with +"
   ]
  },
  {
   "cell_type": "code",
   "execution_count": 15,
   "metadata": {},
   "outputs": [
    {
     "data": {
      "text/plain": [
       "21"
      ]
     },
     "execution_count": 15,
     "metadata": {},
     "output_type": "execute_result"
    }
   ],
   "source": [
    "# Echo out the resutl of the numeric addition\n",
    "10 + 11"
   ]
  },
  {
   "cell_type": "code",
   "execution_count": 16,
   "metadata": {},
   "outputs": [
    {
     "data": {
      "text/plain": [
       "'Hello my name is Rodrigo.'"
      ]
     },
     "execution_count": 16,
     "metadata": {},
     "output_type": "execute_result"
    }
   ],
   "source": [
    "# Echo's out the result of the string concatination\n",
    "\"Hello my name is \" + \"Rodrigo.\""
   ]
  },
  {
   "cell_type": "code",
   "execution_count": 17,
   "metadata": {},
   "outputs": [
    {
     "name": "stdout",
     "output_type": "stream",
     "text": [
      "37.3\n"
     ]
    }
   ],
   "source": [
    "# Prints out a float addition\n",
    "print(21.5 + 15.8)"
   ]
  },
  {
   "cell_type": "code",
   "execution_count": 18,
   "metadata": {},
   "outputs": [
    {
     "name": "stdout",
     "output_type": "stream",
     "text": [
      "Hello my name is Rodrigo.\n"
     ]
    }
   ],
   "source": [
    "# Prints out the string concatinated\n",
    "print(\"Hello \" + \"my name is \" + \"Rodrigo.\")"
   ]
  },
  {
   "cell_type": "markdown",
   "metadata": {},
   "source": [
    "### Addition in variable assignments\n",
    "Variable can be initialized and updated using the addition operator"
   ]
  },
  {
   "cell_type": "code",
   "execution_count": 19,
   "metadata": {},
   "outputs": [
    {
     "name": "stdout",
     "output_type": "stream",
     "text": [
      "45\n"
     ]
    }
   ],
   "source": [
    "# Create a variable that adds two numbers\n",
    "add_two_numbers = 30 + 15\n",
    "\n",
    "# Print the variable\n",
    "print(add_two_numbers)"
   ]
  },
  {
   "cell_type": "code",
   "execution_count": 20,
   "metadata": {},
   "outputs": [
    {
     "name": "stdout",
     "output_type": "stream",
     "text": [
      "Hi, how are you today Rodrigo?\n"
     ]
    }
   ],
   "source": [
    "# Create variable for my first name\n",
    "first_name = \"Rodrigo\"\n",
    "\n",
    "# Create a variable that adds my name to a greeting\n",
    "greeting = \"Hi, how are you today \" + first_name + \"?\"\n",
    "\n",
    "print(greeting)"
   ]
  },
  {
   "cell_type": "code",
   "execution_count": 21,
   "metadata": {},
   "outputs": [
    {
     "name": "stdout",
     "output_type": "stream",
     "text": [
      "90\n"
     ]
    }
   ],
   "source": [
    "add_two_numbers = 30 + 15\n",
    "add_four_numbers = add_two_numbers + add_two_numbers\n",
    "\n",
    "print(add_four_numbers)"
   ]
  },
  {
   "cell_type": "markdown",
   "metadata": {},
   "source": [
    "### TypeErrors"
   ]
  },
  {
   "cell_type": "code",
   "execution_count": 22,
   "metadata": {},
   "outputs": [
    {
     "ename": "TypeError",
     "evalue": "must be str, not int",
     "output_type": "error",
     "traceback": [
      "\u001b[0;31m---------------------------------------------------------------------------\u001b[0m",
      "\u001b[0;31mTypeError\u001b[0m                                 Traceback (most recent call last)",
      "\u001b[0;32m<ipython-input-22-ede85230e59e>\u001b[0m in \u001b[0;36m<module>\u001b[0;34m()\u001b[0m\n\u001b[1;32m      1\u001b[0m \u001b[0;31m# str + int cannot be combined\u001b[0m\u001b[0;34m\u001b[0m\u001b[0;34m\u001b[0m\u001b[0m\n\u001b[0;32m----> 2\u001b[0;31m \u001b[0mprint\u001b[0m\u001b[0;34m(\u001b[0m\u001b[0;34m\"My number is \"\u001b[0m \u001b[0;34m+\u001b[0m \u001b[0;36m123\u001b[0m\u001b[0;34m)\u001b[0m\u001b[0;34m\u001b[0m\u001b[0m\n\u001b[0m",
      "\u001b[0;31mTypeError\u001b[0m: must be str, not int"
     ]
    }
   ],
   "source": [
    "# str + int cannot be combined\n",
    "print(\"My number is \" + 123)"
   ]
  },
  {
   "cell_type": "code",
   "execution_count": null,
   "metadata": {},
   "outputs": [],
   "source": [
    "my_number = 123\n",
    "number_intro = \"My number is \" + my_number\n",
    "\n",
    "print(number_intro)"
   ]
  },
  {
   "cell_type": "markdown",
   "metadata": {},
   "source": [
    "### More Errors\n",
    "\n",
    "#### SyntaxError & NameError\n",
    "* __SyntaxError__ -code formatting rules of python are not followed\n",
    "* __NameError__ - object is not defined (cannot be found)"
   ]
  },
  {
   "cell_type": "markdown",
   "metadata": {},
   "source": [
    "### SyntaxErrors"
   ]
  },
  {
   "cell_type": "code",
   "execution_count": 23,
   "metadata": {},
   "outputs": [
    {
     "name": "stdout",
     "output_type": "stream",
     "text": [
      "I am a string with matching quotes\n"
     ]
    }
   ],
   "source": [
    "# Python syntax requires matching quotes for a string\n",
    "print(\"I am a string with matching quotes\")"
   ]
  },
  {
   "cell_type": "code",
   "execution_count": 24,
   "metadata": {},
   "outputs": [
    {
     "ename": "SyntaxError",
     "evalue": "EOL while scanning string literal (<ipython-input-24-d90a652761cd>, line 2)",
     "output_type": "error",
     "traceback": [
      "\u001b[0;36m  File \u001b[0;32m\"<ipython-input-24-d90a652761cd>\"\u001b[0;36m, line \u001b[0;32m2\u001b[0m\n\u001b[0;31m    print(\"I am a string without matching quotes')\u001b[0m\n\u001b[0m                                                  ^\u001b[0m\n\u001b[0;31mSyntaxError\u001b[0m\u001b[0;31m:\u001b[0m EOL while scanning string literal\n"
     ]
    }
   ],
   "source": [
    "# If a string has non-matching quotes, Python will give a syntax error\n",
    "print(\"I am a string without matching quotes')"
   ]
  },
  {
   "cell_type": "code",
   "execution_count": 25,
   "metadata": {},
   "outputs": [
    {
     "ename": "SyntaxError",
     "evalue": "invalid token (<ipython-input-25-a04b00627fc1>, line 2)",
     "output_type": "error",
     "traceback": [
      "\u001b[0;36m  File \u001b[0;32m\"<ipython-input-25-a04b00627fc1>\"\u001b[0;36m, line \u001b[0;32m2\u001b[0m\n\u001b[0;31m    1_variable = \"HELLO!\"\u001b[0m\n\u001b[0m     ^\u001b[0m\n\u001b[0;31mSyntaxError\u001b[0m\u001b[0;31m:\u001b[0m invalid token\n"
     ]
    }
   ],
   "source": [
    "# Varibale names that start with a number will also produce a syntax error\n",
    "1_variable = \"HELLO!\""
   ]
  },
  {
   "cell_type": "code",
   "execution_count": 26,
   "metadata": {},
   "outputs": [
    {
     "ename": "SyntaxError",
     "evalue": "unexpected EOF while parsing (<ipython-input-26-43f44343f7c9>, line 2)",
     "output_type": "error",
     "traceback": [
      "\u001b[0;36m  File \u001b[0;32m\"<ipython-input-26-43f44343f7c9>\"\u001b[0;36m, line \u001b[0;32m2\u001b[0m\n\u001b[0;31m    type(3.14(\u001b[0m\n\u001b[0m              ^\u001b[0m\n\u001b[0;31mSyntaxError\u001b[0m\u001b[0;31m:\u001b[0m unexpected EOF while parsing\n"
     ]
    }
   ],
   "source": [
    "# Also not closing paranthesis in a function with give a syntax error\n",
    "type(3.14("
   ]
  },
  {
   "cell_type": "markdown",
   "metadata": {},
   "source": [
    "### NameErrors"
   ]
  },
  {
   "cell_type": "code",
   "execution_count": 27,
   "metadata": {},
   "outputs": [
    {
     "ename": "NameError",
     "evalue": "name 'Print' is not defined",
     "output_type": "error",
     "traceback": [
      "\u001b[0;31m---------------------------------------------------------------------------\u001b[0m",
      "\u001b[0;31mNameError\u001b[0m                                 Traceback (most recent call last)",
      "\u001b[0;32m<ipython-input-27-c7f7313e141a>\u001b[0m in \u001b[0;36m<module>\u001b[0;34m()\u001b[0m\n\u001b[1;32m      1\u001b[0m \u001b[0;31m# Python is picky with capitalization!\u001b[0m\u001b[0;34m\u001b[0m\u001b[0;34m\u001b[0m\u001b[0m\n\u001b[1;32m      2\u001b[0m \u001b[0;31m# Python's print function is all lowercase. If capitalized, Python will look for a variable named \"Print\" like bellow.\u001b[0m\u001b[0;34m\u001b[0m\u001b[0;34m\u001b[0m\u001b[0m\n\u001b[0;32m----> 3\u001b[0;31m \u001b[0mPrint\u001b[0m\u001b[0;34m(\u001b[0m\u001b[0;34m\"This will throw a NameError\"\u001b[0m\u001b[0;34m)\u001b[0m\u001b[0;34m\u001b[0m\u001b[0m\n\u001b[0m",
      "\u001b[0;31mNameError\u001b[0m: name 'Print' is not defined"
     ]
    }
   ],
   "source": [
    "# Python is picky with capitalization!\n",
    "# Python's print function is all lowercase. If capitalized, Python will look for a variable named \"Print\" like bellow.\n",
    "Print(\"This will throw a NameError\")"
   ]
  },
  {
   "cell_type": "code",
   "execution_count": 28,
   "metadata": {},
   "outputs": [
    {
     "ename": "NameError",
     "evalue": "name 'day_of_week' is not defined",
     "output_type": "error",
     "traceback": [
      "\u001b[0;31m---------------------------------------------------------------------------\u001b[0m",
      "\u001b[0;31mNameError\u001b[0m                                 Traceback (most recent call last)",
      "\u001b[0;32m<ipython-input-28-5bb6fe9bab4e>\u001b[0m in \u001b[0;36m<module>\u001b[0;34m()\u001b[0m\n\u001b[1;32m      1\u001b[0m \u001b[0;31m# Python will also throw a NameError when it cannot find a variable that was not defined\u001b[0m\u001b[0;34m\u001b[0m\u001b[0;34m\u001b[0m\u001b[0m\n\u001b[0;32m----> 2\u001b[0;31m \u001b[0mprint\u001b[0m\u001b[0;34m(\u001b[0m\u001b[0mday_of_week\u001b[0m\u001b[0;34m)\u001b[0m\u001b[0;34m\u001b[0m\u001b[0m\n\u001b[0m",
      "\u001b[0;31mNameError\u001b[0m: name 'day_of_week' is not defined"
     ]
    }
   ],
   "source": [
    "# Python will also throw a NameError when it cannot find a variable that was not defined\n",
    "print(day_of_week)"
   ]
  },
  {
   "cell_type": "markdown",
   "metadata": {},
   "source": [
    "## Module 1 Section 5: ASCII Art"
   ]
  },
  {
   "cell_type": "code",
   "execution_count": 29,
   "metadata": {},
   "outputs": [
    {
     "name": "stdout",
     "output_type": "stream",
     "text": [
      "eeeeee\n",
      "e\n",
      "eeeeee\n",
      "e\n",
      "eeeeee\n"
     ]
    }
   ],
   "source": [
    "print(\"eeeeee\")\n",
    "print(\"e\")\n",
    "print(\"eeeeee\")\n",
    "print(\"e\")\n",
    "print(\"eeeeee\")"
   ]
  },
  {
   "cell_type": "code",
   "execution_count": 30,
   "metadata": {},
   "outputs": [
    {
     "name": "stdout",
     "output_type": "stream",
     "text": [
      "   _  \n",
      "__(.)=\n",
      "\\___)\n"
     ]
    }
   ],
   "source": [
    "print(\"   _  \")\n",
    "print(\"__(.)=\")\n",
    "print(\"\\___)\")"
   ]
  },
  {
   "cell_type": "code",
   "execution_count": 31,
   "metadata": {},
   "outputs": [
    {
     "name": "stdout",
     "output_type": "stream",
     "text": [
      "            _-----o-----_\n",
      "   /|__/|  /             |\n",
      "   |_  _/ /               |\n",
      "     | |_|           () __|\n",
      "      |                 |_\n",
      "       |      %__%       /\n",
      "     ~~~|~~~~~~~~~~~~~~~/~~~~\n"
     ]
    }
   ],
   "source": [
    "print(\"            _-----o-----_\")\n",
    "print(\"   /|__/|  /             |\")\n",
    "print(\"   |_  _/ /               |\")\n",
    "print(\"     | |_|           () __|\")\n",
    "print(\"      |                 |_\")\n",
    "print(\"       |      %__%       /\")\n",
    "print(\"     ~~~|~~~~~~~~~~~~~~~/~~~~\")"
   ]
  },
  {
   "cell_type": "markdown",
   "metadata": {
    "collapsed": true
   },
   "source": [
    "## Module 1 Section 6: Input\n",
    "Using the function input() in Python 3, we can gather input from the user to use in the program. We use input() in the following way."
   ]
  },
  {
   "cell_type": "code",
   "execution_count": 32,
   "metadata": {},
   "outputs": [
    {
     "name": "stdout",
     "output_type": "stream",
     "text": [
      "Please enter your name: \n",
      "\n"
     ]
    }
   ],
   "source": [
    "# First we print out the instructions for the user to know what to enter.\n",
    "print(\"Please enter your name: \")\n",
    "\n",
    "# Then we save the user's input into a variable\n",
    "name = input()"
   ]
  },
  {
   "cell_type": "code",
   "execution_count": 33,
   "metadata": {},
   "outputs": [
    {
     "name": "stdout",
     "output_type": "stream",
     "text": [
      "Hello , how are you?\n"
     ]
    }
   ],
   "source": [
    "# After that we can use that variable for anything in the program.\n",
    "print(\"Hello \" + name + \", how are you?\")"
   ]
  },
  {
   "cell_type": "markdown",
   "metadata": {},
   "source": [
    "### Input prompt\n",
    "There is a different way of asking a user for their input. Above you can see that we first print out the message for the user to know what to type, and then we ask for the input.  \n",
    "You can also ask the user for their input and assign that input to a variable at the same time, just like showed bellow."
   ]
  },
  {
   "cell_type": "code",
   "execution_count": 34,
   "metadata": {},
   "outputs": [
    {
     "name": "stdout",
     "output_type": "stream",
     "text": [
      "Please enter your full name: \n",
      "Your full name is: \n"
     ]
    }
   ],
   "source": [
    "full_name = input(\"Please enter your full name: \")\n",
    "\n",
    "# After getting the input we can print out the content of the new variable\n",
    "print(\"Your full name is: \" + full_name)"
   ]
  },
  {
   "cell_type": "markdown",
   "metadata": {},
   "source": [
    "There is something that has to be accounted for in the input function, anything the user inputs will always be a string.  \n",
    "If the user enters a number, Python will still interpret it as a string. We can see this by using the type() function on the variable that was assigned to the input, like bellow."
   ]
  },
  {
   "cell_type": "code",
   "execution_count": 35,
   "metadata": {},
   "outputs": [
    {
     "name": "stdout",
     "output_type": "stream",
     "text": [
      "Please enter a number: \n"
     ]
    },
    {
     "data": {
      "text/plain": [
       "str"
      ]
     },
     "execution_count": 35,
     "metadata": {},
     "output_type": "execute_result"
    }
   ],
   "source": [
    "# Ask the user to enter a number\n",
    "number = input(\"Please enter a number: \")\n",
    "\n",
    "# Check the data type of the user's input\n",
    "type(number)"
   ]
  },
  {
   "cell_type": "markdown",
   "metadata": {},
   "source": [
    "This means that if you want to add a number that the user enters to some other equation, you would get an error."
   ]
  },
  {
   "cell_type": "code",
   "execution_count": 36,
   "metadata": {},
   "outputs": [
    {
     "name": "stdout",
     "output_type": "stream",
     "text": [
      "Please enter a number to add to 5: \n"
     ]
    },
    {
     "ename": "TypeError",
     "evalue": "unsupported operand type(s) for +: 'int' and 'str'",
     "output_type": "error",
     "traceback": [
      "\u001b[0;31m---------------------------------------------------------------------------\u001b[0m",
      "\u001b[0;31mTypeError\u001b[0m                                 Traceback (most recent call last)",
      "\u001b[0;32m<ipython-input-36-ae00b4d6ab4c>\u001b[0m in \u001b[0;36m<module>\u001b[0;34m()\u001b[0m\n\u001b[1;32m      1\u001b[0m \u001b[0mnumber\u001b[0m \u001b[0;34m=\u001b[0m \u001b[0minput\u001b[0m\u001b[0;34m(\u001b[0m\u001b[0;34m\"Please enter a number to add to 5: \"\u001b[0m\u001b[0;34m)\u001b[0m\u001b[0;34m\u001b[0m\u001b[0m\n\u001b[0;32m----> 2\u001b[0;31m \u001b[0mprint\u001b[0m\u001b[0;34m(\u001b[0m\u001b[0;36m5\u001b[0m \u001b[0;34m+\u001b[0m \u001b[0mnumber\u001b[0m\u001b[0;34m)\u001b[0m\u001b[0;34m\u001b[0m\u001b[0m\n\u001b[0m",
      "\u001b[0;31mTypeError\u001b[0m: unsupported operand type(s) for +: 'int' and 'str'"
     ]
    }
   ],
   "source": [
    "number = input(\"Please enter a number to add to 5: \")\n",
    "print(5 + number)"
   ]
  },
  {
   "cell_type": "markdown",
   "metadata": {},
   "source": [
    "## Module 1 Section 7: Print Formatting\n",
    "### Formating using the plus symbol\n",
    "As you saw before, you can format your print statements to include variables using the plus symbol. With the plus symbol its easy to print out any text that is written in the actual print statement but also include any string variable that you have in your program.   \n",
    "Example bellow."
   ]
  },
  {
   "cell_type": "code",
   "execution_count": 37,
   "metadata": {},
   "outputs": [
    {
     "name": "stdout",
     "output_type": "stream",
     "text": [
      "Hello Rodrigo, isn't it a beautiful day?\n"
     ]
    }
   ],
   "source": [
    "name = \"Rodrigo\"\n",
    "print(\"Hello \" + name + \", isn't it a beautiful day?\")"
   ]
  },
  {
   "cell_type": "markdown",
   "metadata": {},
   "source": [
    "As you can see in the above example, you can print out any text and unite it with any string variable.   \n",
    "This way of printing work but what is you want to print out a number in a print statement that already has text in it?    \n",
    "Will it work?"
   ]
  },
  {
   "cell_type": "code",
   "execution_count": 38,
   "metadata": {},
   "outputs": [
    {
     "ename": "TypeError",
     "evalue": "must be str, not int",
     "output_type": "error",
     "traceback": [
      "\u001b[0;31m---------------------------------------------------------------------------\u001b[0m",
      "\u001b[0;31mTypeError\u001b[0m                                 Traceback (most recent call last)",
      "\u001b[0;32m<ipython-input-38-a6f812d961d9>\u001b[0m in \u001b[0;36m<module>\u001b[0;34m()\u001b[0m\n\u001b[1;32m      1\u001b[0m \u001b[0mnumber\u001b[0m \u001b[0;34m=\u001b[0m \u001b[0;36m1234\u001b[0m\u001b[0;34m\u001b[0m\u001b[0m\n\u001b[0;32m----> 2\u001b[0;31m \u001b[0mprint\u001b[0m\u001b[0;34m(\u001b[0m\u001b[0;34m\"Your number is: \"\u001b[0m \u001b[0;34m+\u001b[0m \u001b[0mnumber\u001b[0m\u001b[0;34m)\u001b[0m\u001b[0;34m\u001b[0m\u001b[0m\n\u001b[0m",
      "\u001b[0;31mTypeError\u001b[0m: must be str, not int"
     ]
    }
   ],
   "source": [
    "number = 1234\n",
    "print(\"Your number is: \" + number)"
   ]
  },
  {
   "cell_type": "markdown",
   "metadata": {},
   "source": [
    "As you can see by the above error, you can't print out strings and numbers in the same print statement using the plus symbol.    \n",
    "### Formating using commas\n",
    "You can actually print strings and numbers together on the same print statement if you seperate them with commas.    \n",
    "Example bellow."
   ]
  },
  {
   "cell_type": "code",
   "execution_count": 39,
   "metadata": {},
   "outputs": [
    {
     "name": "stdout",
     "output_type": "stream",
     "text": [
      "Hello Rodrigo Luzuriaga You're number is: 1234\n"
     ]
    }
   ],
   "source": [
    "full_name = \"Rodrigo Luzuriaga\"\n",
    "number = 1234\n",
    "print(\"Hello\", full_name, \"You're number is:\", number)"
   ]
  },
  {
   "cell_type": "markdown",
   "metadata": {},
   "source": [
    "As you can see from the example above, you can concatenate both strings and numbers in the same print statement by using commas. One thing to note is that when using the comma style formatting in print statements, there is no need to add spaces before and after the variable, Python does it on its own.   \n",
    "**_TODO: Add .format(), concatenate using + but with str()_**"
   ]
  },
  {
   "cell_type": "markdown",
   "metadata": {},
   "source": [
    "## Module 1 Section 8: Quote display & Boolean\n",
    "### Strings with quotes\n",
    "You can print out a string that contains quotes by combining single and double quotes.    \n",
    "Example bellow."
   ]
  },
  {
   "cell_type": "code",
   "execution_count": 40,
   "metadata": {},
   "outputs": [
    {
     "name": "stdout",
     "output_type": "stream",
     "text": [
      "This string is to show that it's working.\n"
     ]
    }
   ],
   "source": [
    "# Printing out a string with apostrophes\n",
    "print(\"This string is to show that it's working.\")"
   ]
  },
  {
   "cell_type": "markdown",
   "metadata": {},
   "source": [
    "As you can see, the apostrophe in \"it's\" did print out, this is because Python is using the double quotes in the print statement to identify were the string starts and stops, and it is taking the ' as a character.    \n",
    "In the bellow example, I am showing how you can have a quoted sentance in the print statement."
   ]
  },
  {
   "cell_type": "code",
   "execution_count": 41,
   "metadata": {},
   "outputs": [
    {
     "name": "stdout",
     "output_type": "stream",
     "text": [
      "Mr. Barns said, \"No ice creams for you today.\"\n"
     ]
    }
   ],
   "source": [
    "print('Mr. Barns said, \"No ice creams for you today.\"')"
   ]
  },
  {
   "cell_type": "markdown",
   "metadata": {},
   "source": [
    "With the above example Python is taking the single quotes as the identifier for were the string starts and stops and passing the \" as a character.    \n",
    "But what if you want to quote something and it has an apostrophe in the sentence?"
   ]
  },
  {
   "cell_type": "code",
   "execution_count": 42,
   "metadata": {},
   "outputs": [
    {
     "ename": "SyntaxError",
     "evalue": "invalid syntax (<ipython-input-42-d961927cd1bf>, line 1)",
     "output_type": "error",
     "traceback": [
      "\u001b[0;36m  File \u001b[0;32m\"<ipython-input-42-d961927cd1bf>\"\u001b[0;36m, line \u001b[0;32m1\u001b[0m\n\u001b[0;31m    print('\"It's a horrible day!\", said Jack.')\u001b[0m\n\u001b[0m               ^\u001b[0m\n\u001b[0;31mSyntaxError\u001b[0m\u001b[0;31m:\u001b[0m invalid syntax\n"
     ]
    }
   ],
   "source": [
    "print('\"It's a horrible day!\", said Jack.')"
   ]
  },
  {
   "cell_type": "markdown",
   "metadata": {},
   "source": [
    "If you just try to enter the text as you see in the above example, it's going to give a syntax error.     \n",
    "When trying to print the above example you have to use the \\ symbol before the apostrophe to tell Python to take the apostrophe as a character and not as the end of the string.     \n",
    "Example bellow."
   ]
  },
  {
   "cell_type": "code",
   "execution_count": 43,
   "metadata": {},
   "outputs": [
    {
     "name": "stdout",
     "output_type": "stream",
     "text": [
      "\"It's a horrible day!\", said Jack.\n"
     ]
    }
   ],
   "source": [
    "print('\"It\\'s a horrible day!\", said Jack.')"
   ]
  },
  {
   "cell_type": "markdown",
   "metadata": {},
   "source": [
    "### Testing with Boolean String Methods\n",
    "A Boolean string method only works on string and will only output either True or False.    \n",
    "Examples bellow."
   ]
  },
  {
   "cell_type": "code",
   "execution_count": 44,
   "metadata": {},
   "outputs": [
    {
     "data": {
      "text/plain": [
       "True"
      ]
     },
     "execution_count": 44,
     "metadata": {},
     "output_type": "execute_result"
    }
   ],
   "source": [
    "# This method checks if the string alpha\n",
    "\"Python\".isalpha()"
   ]
  },
  {
   "cell_type": "code",
   "execution_count": 45,
   "metadata": {},
   "outputs": [
    {
     "data": {
      "text/plain": [
       "True"
      ]
     },
     "execution_count": 45,
     "metadata": {},
     "output_type": "execute_result"
    }
   ],
   "source": [
    "# This method checks if the string is alphanumeric\n",
    "\"3rd\".isalnum()"
   ]
  },
  {
   "cell_type": "code",
   "execution_count": 46,
   "metadata": {},
   "outputs": [
    {
     "data": {
      "text/plain": [
       "False"
      ]
     },
     "execution_count": 46,
     "metadata": {},
     "output_type": "execute_result"
    }
   ],
   "source": [
    "# Check if string starts with a certain character, this is case-sensitive\n",
    "\"Save\".startswith(\"s\")"
   ]
  },
  {
   "cell_type": "code",
   "execution_count": 47,
   "metadata": {},
   "outputs": [
    {
     "data": {
      "text/plain": [
       "False"
      ]
     },
     "execution_count": 47,
     "metadata": {},
     "output_type": "execute_result"
    }
   ],
   "source": [
    "# Checks if the whole string is lowercase\n",
    "\"Hey\".islower()"
   ]
  },
  {
   "cell_type": "code",
   "execution_count": 48,
   "metadata": {},
   "outputs": [
    {
     "data": {
      "text/plain": [
       "False"
      ]
     },
     "execution_count": 48,
     "metadata": {},
     "output_type": "execute_result"
    }
   ],
   "source": [
    "# Checks if the whole string is lowercase\n",
    "\"hey\".isupper()"
   ]
  },
  {
   "cell_type": "code",
   "execution_count": 49,
   "metadata": {},
   "outputs": [
    {
     "data": {
      "text/plain": [
       "True"
      ]
     },
     "execution_count": 49,
     "metadata": {},
     "output_type": "execute_result"
    }
   ],
   "source": [
    "# Checks if the string have every word's first letter capitalized\n",
    "\"The End\".istitle()"
   ]
  },
  {
   "cell_type": "code",
   "execution_count": 50,
   "metadata": {},
   "outputs": [
    {
     "data": {
      "text/plain": [
       "True"
      ]
     },
     "execution_count": 50,
     "metadata": {},
     "output_type": "execute_result"
    }
   ],
   "source": [
    "# The string methods also work on variables that are strings\n",
    "cm_height = \"176\"\n",
    "\n",
    "# Method checks if the string is only numbers\n",
    "cm_height.isdigit()"
   ]
  },
  {
   "cell_type": "code",
   "execution_count": 51,
   "metadata": {},
   "outputs": [
    {
     "name": "stdout",
     "output_type": "stream",
     "text": [
      "cm height: 176 is all digits = True\n"
     ]
    }
   ],
   "source": [
    "# The methods can be used inside of print statements too.\n",
    "cm_height = \"176\"\n",
    "print(\"cm height:\", cm_height, \"is all digits =\", cm_height.isdigit())"
   ]
  },
  {
   "cell_type": "markdown",
   "metadata": {},
   "source": [
    "## Module 1 Section 9: String Formatting & \"in\" keyword"
   ]
  },
  {
   "cell_type": "code",
   "execution_count": null,
   "metadata": {},
   "outputs": [],
   "source": []
  }
 ],
 "metadata": {
  "kernelspec": {
   "display_name": "Python 3",
   "language": "python",
   "name": "python3"
  },
  "language_info": {
   "codemirror_mode": {
    "name": "ipython",
    "version": 3
   },
   "file_extension": ".py",
   "mimetype": "text/x-python",
   "name": "python",
   "nbconvert_exporter": "python",
   "pygments_lexer": "ipython3",
   "version": "3.6.3"
  }
 },
 "nbformat": 4,
 "nbformat_minor": 2
}
