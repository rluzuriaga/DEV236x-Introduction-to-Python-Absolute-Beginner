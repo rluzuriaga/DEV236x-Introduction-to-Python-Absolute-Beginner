{
 "cells": [
  {
   "cell_type": "markdown",
   "metadata": {},
   "source": [
    "# Module 1: Python Basics\n",
    "\n",
    "## Hello World & Comments\n",
    "\n",
    "Hello World is the easiest program to write that shows how Python outputs a string."
   ]
  },
  {
   "cell_type": "code",
   "execution_count": 1,
   "metadata": {
    "collapsed": false,
    "scrolled": false
   },
   "outputs": [
    {
     "name": "stdout",
     "output_type": "stream",
     "text": [
      "Hello World\n"
     ]
    }
   ],
   "source": [
    "print(\"Hello World\")\n",
    "# Prints out 'Hello World' in Python 3"
   ]
  },
  {
   "cell_type": "markdown",
   "metadata": {},
   "source": [
    "In the above code, we show how Python 3 outputs a string as well as how comments are written in Python.\n",
    "\n",
    "Comments start with the '#' symbol, and are used by programmers to put context around the code so that when other programmers look at their code it is easier to understand why the code was written that way.\n"
   ]
  },
  {
   "cell_type": "markdown",
   "metadata": {},
   "source": [
    "## Strings\n",
    "Stings are any characters that are inside quotes(single or double)."
   ]
  },
  {
   "cell_type": "code",
   "execution_count": 2,
   "metadata": {
    "collapsed": false,
    "scrolled": true
   },
   "outputs": [
    {
     "data": {
      "text/plain": [
       "'ABCD abcd 1234 !@#$'"
      ]
     },
     "execution_count": 2,
     "metadata": {},
     "output_type": "execute_result"
    }
   ],
   "source": [
    "\"ABCD abcd 1234 !@#$\"  # This is a string in double quotes"
   ]
  },
  {
   "cell_type": "code",
   "execution_count": 3,
   "metadata": {
    "collapsed": false
   },
   "outputs": [
    {
     "data": {
      "text/plain": [
       "'This is another string'"
      ]
     },
     "execution_count": 3,
     "metadata": {},
     "output_type": "execute_result"
    }
   ],
   "source": [
    "'This is another string'  # This string is in single quotes"
   ]
  },
  {
   "cell_type": "code",
   "execution_count": 4,
   "metadata": {
    "collapsed": false
   },
   "outputs": [
    {
     "ename": "SyntaxError",
     "evalue": "EOL while scanning string literal (<ipython-input-4-570a17e65327>, line 2)",
     "output_type": "error",
     "traceback": [
      "\u001b[0;36m  File \u001b[0;32m\"<ipython-input-4-570a17e65327>\"\u001b[0;36m, line \u001b[0;32m2\u001b[0m\n\u001b[0;31m    \"This string is not going to work'\u001b[0m\n\u001b[0m                                      ^\u001b[0m\n\u001b[0;31mSyntaxError\u001b[0m\u001b[0;31m:\u001b[0m EOL while scanning string literal\n"
     ]
    }
   ],
   "source": [
    "# This string is not formatted correctly\n",
    "\"This string is not going to work'"
   ]
  },
  {
   "cell_type": "markdown",
   "metadata": {},
   "source": [
    "The above string threw a SyntaxError! This syntax error is returned because the string has double quotes at the begining and single quotes at the end.  \n",
    "**A string is only valid when both the begining and ending quotes are the same!**\n"
   ]
  },
  {
   "cell_type": "markdown",
   "metadata": {},
   "source": [
    "## Integers\n",
    "Integers are whole numbers, both positive and negative, that are not in quotes."
   ]
  },
  {
   "cell_type": "code",
   "execution_count": 5,
   "metadata": {
    "collapsed": false
   },
   "outputs": [
    {
     "data": {
      "text/plain": [
       "-123"
      ]
     },
     "execution_count": 5,
     "metadata": {},
     "output_type": "execute_result"
    }
   ],
   "source": [
    "# This is a negative integer\n",
    "-123"
   ]
  },
  {
   "cell_type": "code",
   "execution_count": 6,
   "metadata": {
    "collapsed": false
   },
   "outputs": [
    {
     "data": {
      "text/plain": [
       "'-123'"
      ]
     },
     "execution_count": 6,
     "metadata": {},
     "output_type": "execute_result"
    }
   ],
   "source": [
    "# This is a string representation of the same negative integer\n",
    "\"-123\""
   ]
  },
  {
   "cell_type": "markdown",
   "metadata": {},
   "source": [
    "A clear way to know which one of those two outputs are integers or strings is to see if they have quotations around the numbers.  \n",
    "**It really does matter which one you use! So know the difference.**"
   ]
  },
  {
   "cell_type": "markdown",
   "metadata": {},
   "source": [
    "\n",
    "## Variables & Data Types\n",
    "Variables are used in programming so that values don't have to be retyped and can be reused throughout the code.\n",
    "For example, let's say that you are writing a software that adds up products sold and then adds the sales tax and outputs the total. In this software you may have to write, in multiple lines, what the sales tax percentage is. However, what if the the sales tax goes up... Then you are stuck looking through the whole file and changing every single instance of the sales tax.  \n",
    "Because of this programmers use variables. You can set a variable \"*sales_tax*\" at the begining of the file and then you reference (call) that variable throughout the code. So if you have to change the value of the sales tax you only have to change it in one spot.\n",
    "\n",
    "Variable are declared by puting descriptive word(s) on the left of an equal sign, and the value that will be assigned to that variable to the right of the equals sign."
   ]
  },
  {
   "cell_type": "code",
   "execution_count": 7,
   "metadata": {
    "collapsed": false
   },
   "outputs": [
    {
     "data": {
      "text/plain": [
       "'Rodrigo'"
      ]
     },
     "execution_count": 7,
     "metadata": {},
     "output_type": "execute_result"
    }
   ],
   "source": [
    "# Declaration of variables\n",
    "name = \"Rodrigo\"\n",
    "name"
   ]
  },
  {
   "cell_type": "markdown",
   "metadata": {},
   "source": [
    "Variable in Python can contain any data type (integers, strings, booleans, floats).\n",
    "The example above assigns my name, which is a string, to the variable \"*name*\" then calls the variable which outputs the string 'Rodrigo'.    \n",
    "Variable **can** be changed although."
   ]
  },
  {
   "cell_type": "code",
   "execution_count": 8,
   "metadata": {
    "collapsed": false
   },
   "outputs": [
    {
     "data": {
      "text/plain": [
       "'Rodrigo Luzuriaga'"
      ]
     },
     "execution_count": 8,
     "metadata": {},
     "output_type": "execute_result"
    }
   ],
   "source": [
    "# Changing variable name from first name to full name\n",
    "name = \"Rodrigo Luzuriaga\"\n",
    "name"
   ]
  },
  {
   "cell_type": "markdown",
   "metadata": {},
   "source": [
    "In the code above I reassigned the string in the variable to contain my full name, and then called the variable again to show that it did change."
   ]
  },
  {
   "cell_type": "markdown",
   "metadata": {},
   "source": [
    "Variables in Python do behave differently than in some other programming languages.  \n",
    "In Python, variable can have different data types assigned to them throughout the code."
   ]
  },
  {
   "cell_type": "markdown",
   "metadata": {},
   "source": [
    "The following code will change the value of \"*name*\" from a string to a number."
   ]
  },
  {
   "cell_type": "code",
   "execution_count": 9,
   "metadata": {
    "collapsed": false
   },
   "outputs": [
    {
     "data": {
      "text/plain": [
       "1234"
      ]
     },
     "execution_count": 9,
     "metadata": {},
     "output_type": "execute_result"
    }
   ],
   "source": [
    "# Name will go from being a string to a number\n",
    "name = 1234\n",
    "name"
   ]
  },
  {
   "cell_type": "markdown",
   "metadata": {},
   "source": [
    "The code above doesn't really make since, since a name is usually a string and not an integer, but it is just to prove that a variable can be changed from one data type to another after it is already declared.  \n",
    "**Be careful that you don't accidentally change a variable's value in the middle of your code, because that can cause errors in the code.**"
   ]
  },
  {
   "cell_type": "markdown",
   "metadata": {
    "collapsed": true
   },
   "source": [
    "## Floats & Type()\n",
    "Floats are numbers with a floating decimal point. For example, 3.14 is a float. Any number that contains a decimal point is a float.   \n",
    "**Floats are not the same thing as integers!**   \n",
    "   \n",
    "The function <u>type()</u> can be used to deternime the data type of any input."
   ]
  },
  {
   "cell_type": "code",
   "execution_count": 10,
   "metadata": {
    "collapsed": false
   },
   "outputs": [
    {
     "data": {
      "text/plain": [
       "str"
      ]
     },
     "execution_count": 10,
     "metadata": {},
     "output_type": "execute_result"
    }
   ],
   "source": [
    "# Passing a string into type()\n",
    "type(\"Rodrigo\")"
   ]
  },
  {
   "cell_type": "code",
   "execution_count": 11,
   "metadata": {
    "collapsed": false
   },
   "outputs": [
    {
     "data": {
      "text/plain": [
       "int"
      ]
     },
     "execution_count": 11,
     "metadata": {},
     "output_type": "execute_result"
    }
   ],
   "source": [
    "# Passing an integer into type()\n",
    "type(1234)"
   ]
  },
  {
   "cell_type": "code",
   "execution_count": 12,
   "metadata": {
    "collapsed": false
   },
   "outputs": [
    {
     "data": {
      "text/plain": [
       "float"
      ]
     },
     "execution_count": 12,
     "metadata": {},
     "output_type": "execute_result"
    }
   ],
   "source": [
    "# Passing a float into type()\n",
    "type(3.14)"
   ]
  },
  {
   "cell_type": "markdown",
   "metadata": {},
   "source": [
    "As you can see the above code prints out the correct data type for the value passed into the function.   \n",
    "You can use this function when trying to figure out what data type some value is.   \n",
    "However, this way of using <u>type()</u> is very simple, and not used very often. Usually you would want to figure out what data type is assigned to a variable, like the example below."
   ]
  },
  {
   "cell_type": "code",
   "execution_count": 13,
   "metadata": {
    "collapsed": true
   },
   "outputs": [],
   "source": [
    "# Assign my name (a string) to the variable full_name\n",
    "full_name = \"Rodrigo Luzuriaga\""
   ]
  },
  {
   "cell_type": "code",
   "execution_count": 14,
   "metadata": {
    "collapsed": false
   },
   "outputs": [
    {
     "data": {
      "text/plain": [
       "str"
      ]
     },
     "execution_count": 14,
     "metadata": {},
     "output_type": "execute_result"
    }
   ],
   "source": [
    "# Check the data type of \"full_name\"\n",
    "type(full_name)"
   ]
  },
  {
   "cell_type": "code",
   "execution_count": null,
   "metadata": {
    "collapsed": true
   },
   "outputs": [],
   "source": []
  }
 ],
 "metadata": {
  "kernelspec": {
   "display_name": "Python 3",
   "language": "python",
   "name": "python3"
  },
  "language_info": {
   "codemirror_mode": {
    "name": "ipython",
    "version": 3
   },
   "file_extension": ".py",
   "mimetype": "text/x-python",
   "name": "python",
   "nbconvert_exporter": "python",
   "pygments_lexer": "ipython3",
   "version": "3.6.3"
  }
 },
 "nbformat": 4,
 "nbformat_minor": 2
}
