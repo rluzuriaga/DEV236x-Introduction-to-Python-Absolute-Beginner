{
 "cells": [
  {
   "cell_type": "markdown",
   "metadata": {},
   "source": [
    "# Module 3 - Conditionals"
   ]
  },
  {
   "cell_type": "markdown",
   "metadata": {},
   "source": [
    "## Module 3 Section 1: Boolean Conditionals"
   ]
  },
  {
   "cell_type": "markdown",
   "metadata": {},
   "source": [
    "### If, Else, Pass\n",
    "One of the most important conditionals to any programming language is the if/else statement. The if statem will check if something is, or isn't, true and then some other part of the code is executed. If the 'if' statement is not correct, then the else condition will make another part of the code run.      \n",
    "It is easier to see how it works than explaining it, so example bellow."
   ]
  },
  {
   "cell_type": "code",
   "execution_count": 1,
   "metadata": {},
   "outputs": [
    {
     "name": "stdout",
     "output_type": "stream",
     "text": [
      "The variable is True!\n"
     ]
    }
   ],
   "source": [
    "# We have a variable, which is a boolean, that is equal to True\n",
    "am_i_a_human = True\n",
    "\n",
    "# We check if the variable is True\n",
    "if am_i_a_human:\n",
    "    print(\"The variable is True!\")\n",
    "else:\n",
    "    print(\"The variable is False!\")"
   ]
  },
  {
   "cell_type": "markdown",
   "metadata": {},
   "source": [
    "As you can see from the if/else statement above, we check if a variable is True by just writing if and then the variable name. If that variable is True, then the line(s) bellow the statement, that are indented, will be executed. If the variable is False, like the example below, then the line(s) of code below the else statement, that are indented, will execute."
   ]
  },
  {
   "cell_type": "code",
   "execution_count": 2,
   "metadata": {},
   "outputs": [
    {
     "name": "stdout",
     "output_type": "stream",
     "text": [
      "You are a robot!!!!!\n"
     ]
    }
   ],
   "source": [
    "# Setting the same variable now equal to False\n",
    "am_i_a_human = False\n",
    "\n",
    "if am_i_a_human:\n",
    "    print(\"You are a human!\")\n",
    "else:\n",
    "    print(\"You are a robot!!!!!\")"
   ]
  },
  {
   "cell_type": "markdown",
   "metadata": {},
   "source": [
    "You can use the 'pass' condition in an if/else statement, when you don't want an output, or any code, to execute if the condition is True/False.      \n",
    "Using the same example above, we will use pass in the else statement so that nothing else is executed."
   ]
  },
  {
   "cell_type": "code",
   "execution_count": 3,
   "metadata": {},
   "outputs": [],
   "source": [
    "am_i_a_human = False\n",
    "\n",
    "if am_i_a_human:\n",
    "    print(\"I want this to print is True\")\n",
    "else:\n",
    "    pass"
   ]
  },
  {
   "cell_type": "markdown",
   "metadata": {},
   "source": [
    "As you can see from the above example, nothing printed because we used the pass keyword."
   ]
  },
  {
   "cell_type": "markdown",
   "metadata": {},
   "source": [
    "### Boolean String Methods\n",
    "Boolean String Methods were already discussed in the first Module, but what you need to know is that you can use these methods in if/else statements because they will always return either True or False.      \n",
    "For example, you can check if a user inputed only alphanumeric character into a field, if so, then you run some specific code, if not, then you run rome other code."
   ]
  },
  {
   "cell_type": "code",
   "execution_count": 4,
   "metadata": {},
   "outputs": [
    {
     "name": "stdout",
     "output_type": "stream",
     "text": [
      "Please enter some alphanumeric characters: hello\n",
      "Yes your text is only alphanumeric!\n"
     ]
    }
   ],
   "source": [
    "text = input(\"Please enter some alphanumeric characters: \")\n",
    "\n",
    "if text.isalnum():\n",
    "    print(\"Yes your text is only alphanumeric!\")\n",
    "else:\n",
    "    print(\"Oh no! The text you entered isn't only alphanumeric!\")"
   ]
  },
  {
   "cell_type": "markdown",
   "metadata": {},
   "source": [
    "As you can see from the above example, the text that I entered \"hello\" is alphanumeric.      \n",
    "when using boolean string methods in if/else statements, you need to realize that the methods are very specific. For example, I will run the same code again but I will put a space in the text that I will enter. A space is not considered alphanumeric, so this means that the statement is False."
   ]
  },
  {
   "cell_type": "code",
   "execution_count": 5,
   "metadata": {},
   "outputs": [
    {
     "name": "stdout",
     "output_type": "stream",
     "text": [
      "Please enter some alphanumeric characters: hello all\n",
      "Oh no! The text you entered isn't only alphanumeric!\n"
     ]
    }
   ],
   "source": [
    "text = input(\"Please enter some alphanumeric characters: \")\n",
    "\n",
    "if text.isalnum():\n",
    "    print(\"Yes your text is only alphanumeric!\")\n",
    "else:\n",
    "    print(\"Oh no! The text you entered isn't only alphanumeric!\")"
   ]
  },
  {
   "cell_type": "markdown",
   "metadata": {},
   "source": [
    "## Module 3 Section 2 - Comparison Operators\n",
    "Comparison Operators are:\n",
    "* **>**&nbsp;&nbsp;&nbsp;&nbsp;=&nbsp;&nbsp;&nbsp;&nbsp;Greater than\n",
    "* **<**&nbsp;&nbsp;&nbsp;&nbsp;=&nbsp;&nbsp;&nbsp;&nbsp;Less than\n",
    "* **>=**&nbsp;&nbsp;&nbsp;=&nbsp;&nbsp;&nbsp;&nbsp;Greater than or equal to\n",
    "* **<=**&nbsp;&nbsp;&nbsp;=&nbsp;&nbsp;&nbsp;&nbsp;Less than or equal to\n",
    "* **==**&nbsp;&nbsp;&nbsp;=&nbsp;&nbsp;&nbsp;&nbsp;Equal to (only for comparison)\n",
    "* **!=**&nbsp;&nbsp;&nbsp;=&nbsp;&nbsp;&nbsp;&nbsp;Not equal to (only for comparison)"
   ]
  },
  {
   "cell_type": "code",
   "execution_count": 6,
   "metadata": {},
   "outputs": [
    {
     "data": {
      "text/plain": [
       "False"
      ]
     },
     "execution_count": 6,
     "metadata": {},
     "output_type": "execute_result"
    }
   ],
   "source": [
    "# We can compare numbers easily by just writing it out like you would in math. This will return either True or False.\n",
    "3 > 5"
   ]
  },
  {
   "cell_type": "code",
   "execution_count": 7,
   "metadata": {},
   "outputs": [
    {
     "data": {
      "text/plain": [
       "False"
      ]
     },
     "execution_count": 7,
     "metadata": {},
     "output_type": "execute_result"
    }
   ],
   "source": [
    "3 < 3"
   ]
  },
  {
   "cell_type": "code",
   "execution_count": 8,
   "metadata": {},
   "outputs": [
    {
     "data": {
      "text/plain": [
       "True"
      ]
     },
     "execution_count": 8,
     "metadata": {},
     "output_type": "execute_result"
    }
   ],
   "source": [
    "3 <= 3"
   ]
  },
  {
   "cell_type": "markdown",
   "metadata": {},
   "source": [
    "### Assign vs. Compare"
   ]
  },
  {
   "cell_type": "code",
   "execution_count": 9,
   "metadata": {},
   "outputs": [
    {
     "data": {
      "text/plain": [
       "False"
      ]
     },
     "execution_count": 9,
     "metadata": {},
     "output_type": "execute_result"
    }
   ],
   "source": [
    "# To assing something to avariable we use only ONE equal sign, just as you have seen all the previous examples.\n",
    "number = 3\n",
    "\n",
    "# To compare if a variable is equal to some value you use TWO equal signs.\n",
    "number == 9"
   ]
  },
  {
   "cell_type": "markdown",
   "metadata": {},
   "source": [
    "### Not Equal !="
   ]
  },
  {
   "cell_type": "code",
   "execution_count": 10,
   "metadata": {},
   "outputs": [
    {
     "name": "stdout",
     "output_type": "stream",
     "text": [
      "x is not 4\n"
     ]
    }
   ],
   "source": [
    "# Assign a random number to x\n",
    "x = 5\n",
    "\n",
    "# Check if x is not equal to 4\n",
    "if x != 4:\n",
    "    print(\"x is not 4\")\n",
    "else:\n",
    "    print(\"x is 4\")"
   ]
  },
  {
   "cell_type": "markdown",
   "metadata": {},
   "source": [
    "As you can see from the above code, you can use the comparison operators in if/else statements. Throughout your code you will use them a lot in if/else statements."
   ]
  },
  {
   "cell_type": "markdown",
   "metadata": {},
   "source": [
    "##  Module 3 Section 3 - String Comparison\n",
    "You can compare strings using the comaprison operators."
   ]
  },
  {
   "cell_type": "code",
   "execution_count": 11,
   "metadata": {},
   "outputs": [
    {
     "name": "stdout",
     "output_type": "stream",
     "text": [
      "The messages are different\n"
     ]
    }
   ],
   "source": [
    "# Creating a variable with a random string\n",
    "msg = \"Hello I am Rodrigo\"\n",
    "\n",
    "# Checking if the msg variable is equal to another string\n",
    "if msg == \"hello i am rodrigo\":\n",
    "    print(\"The strings are the same\")\n",
    "else:\n",
    "    print(\"The messages are different\")"
   ]
  },
  {
   "cell_type": "markdown",
   "metadata": {},
   "source": [
    "As you can see, the above example returned False. This is because the two strings were not exactly the same in capitalization.     \n",
    "Of course, we can use the string methods to convert the text to all lowercase and then the output of the if/else statement would be True."
   ]
  },
  {
   "cell_type": "code",
   "execution_count": 12,
   "metadata": {},
   "outputs": [
    {
     "name": "stdout",
     "output_type": "stream",
     "text": [
      "The strings are the same\n"
     ]
    }
   ],
   "source": [
    "# Creating a variable with a random string\n",
    "msg = \"Hello I am Rodrigo\"\n",
    "\n",
    "# Checking if the msg variable is equal to another string\n",
    "if msg.lower() == \"hello i am rodrigo\":\n",
    "    print(\"The strings are the same\")\n",
    "else:\n",
    "    print(\"The messages are different\")"
   ]
  },
  {
   "cell_type": "markdown",
   "metadata": {},
   "source": [
    "## Module 3 Section 4 - Elif & Casting\n",
    "We have used if/else statements to when if something is True or False. But what if we need to check multiple conditions? In this case we use and 'elif' statement. An elif statement goes in between the if and the else statements, and it just means 'else if'. I will write a simple if/elif/else statement to show how it is used."
   ]
  },
  {
   "cell_type": "code",
   "execution_count": 13,
   "metadata": {},
   "outputs": [
    {
     "name": "stdout",
     "output_type": "stream",
     "text": [
      "Please enter a number from 0 to 9: 2\n",
      "Your prediction is lower than the number.\n",
      "The number is 8\n"
     ]
    }
   ],
   "source": [
    "# Create an int variable with the value of 8\n",
    "number = \"8\"\n",
    "\n",
    "# Ask the user to enter a number from 0 to 9, this is the prediction\n",
    "number_prediction = input(\"Please enter a number from 0 to 9: \")\n",
    "\n",
    "# Check if the prediction is lower, higher, or equal to the number\n",
    "if number_prediction < number:\n",
    "    print(\"Your prediction is lower than the number.\")\n",
    "    print(\"The number is\", number)\n",
    "elif number_prediction > number:\n",
    "    print(\"Your prediction is higher than the number.\")\n",
    "    print(\"The number is\",number)\n",
    "else:\n",
    "    print(\"You are dead on! That is the right number!\")"
   ]
  },
  {
   "cell_type": "markdown",
   "metadata": {},
   "source": [
    "So when we run the code above you can see that this actually works, but you may have noticed that in the variable 'number' I wrote the number in quotes. This is because input() grabs anything the user types as a string, and since you can't compare strings with numbers I had to make the number variable a string. Even though that variable is a string, the statement still works because you are comparing the ASCII value of the character and not the actual string."
   ]
  },
  {
   "cell_type": "markdown",
   "metadata": {},
   "source": [
    "### Casting\n",
    "What if in the example above you didn't want to change 'number' to be a string because you need it to be an int for some other part of the program? This is were casting comes in.     \n",
    "Casting is used to convert data types. This is perfect for when you are asking the user to input something but you want it to be an integer or a float.     \n",
    "We'll use the same example above but with casting, this will help so that 'number' remains an integer."
   ]
  },
  {
   "cell_type": "code",
   "execution_count": 14,
   "metadata": {},
   "outputs": [
    {
     "name": "stdout",
     "output_type": "stream",
     "text": [
      "Please enter a number from 0 to 9: 3\n",
      "Your prediction is lower than the number.\n",
      "The number is 4\n"
     ]
    }
   ],
   "source": [
    "# Create an int variable with the value of 4\n",
    "number = 4\n",
    "\n",
    "# Ask the user to enter a number from 0 to 9, this is the prediction\n",
    "number_prediction = input(\"Please enter a number from 0 to 9: \")\n",
    "\n",
    "# Convert number_prediction to an int\n",
    "int_number_prediction = int(number_prediction)\n",
    "\n",
    "# Check if the prediction is lower, higher, or equal to the number\n",
    "if int_number_prediction < number:\n",
    "    print(\"Your prediction is lower than the number.\")\n",
    "    print(\"The number is\", number)\n",
    "elif int_number_prediction > number:\n",
    "    print(\"Your prediction is higher than the number.\")\n",
    "    print(\"The number is\",number)\n",
    "else:\n",
    "    print(\"You are dead on! That is the right number!\")"
   ]
  },
  {
   "cell_type": "markdown",
   "metadata": {},
   "source": [
    "This works great! But there are a few ways that you could have gotten to the same result.       \n",
    "You could have done this:"
   ]
  },
  {
   "cell_type": "code",
   "execution_count": 15,
   "metadata": {},
   "outputs": [
    {
     "name": "stdout",
     "output_type": "stream",
     "text": [
      "Please enter a number from 0 to 9: 8\n",
      "Your prediction is higher than the number.\n",
      "The number is 4\n"
     ]
    }
   ],
   "source": [
    "# Create an int variable with the value of 4\n",
    "number = 4\n",
    "\n",
    "# Ask the user to enter a number from 0 to 9, this is the prediction\n",
    "number_prediction = input(\"Please enter a number from 0 to 9: \")\n",
    "\n",
    "# Check if the prediction is lower, higher, or equal to the number\n",
    "if int(number_prediction) < number:\n",
    "    print(\"Your prediction is lower than the number.\")\n",
    "    print(\"The number is\", number)\n",
    "elif int(number_prediction) > number:\n",
    "    print(\"Your prediction is higher than the number.\")\n",
    "    print(\"The number is\",number)\n",
    "else:\n",
    "    print(\"You are dead on! That is the right number!\")"
   ]
  },
  {
   "cell_type": "markdown",
   "metadata": {},
   "source": [
    "Or you could have done this:"
   ]
  },
  {
   "cell_type": "code",
   "execution_count": 16,
   "metadata": {},
   "outputs": [
    {
     "name": "stdout",
     "output_type": "stream",
     "text": [
      "Please enter a number from 0 to 9: 4\n",
      "You are dead on! That is the right number!\n"
     ]
    }
   ],
   "source": [
    "# Create an int variable with the value of 4\n",
    "number = 4\n",
    "\n",
    "# Ask the user to enter a number from 0 to 9, this is the prediction\n",
    "number_prediction = int(input(\"Please enter a number from 0 to 9: \"))\n",
    "\n",
    "# Check if the prediction is lower, higher, or equal to the number\n",
    "if number_prediction < number:\n",
    "    print(\"Your prediction is lower than the number.\")\n",
    "    print(\"The number is\", number)\n",
    "elif number_prediction > number:\n",
    "    print(\"Your prediction is higher than the number.\")\n",
    "    print(\"The number is\",number)\n",
    "else:\n",
    "    print(\"You are dead on! That is the right number!\")"
   ]
  },
  {
   "cell_type": "markdown",
   "metadata": {},
   "source": [
    "In all of these examples there is one common factor. When you are casting anything in your code, you surround what you want to cast in paranthesis and on the left of the paranthesis you have the data type you want it to be.     \n",
    "There are three casting functions you can use: int(), str(), and float(), and they do exactly what you would expect them to do. The int() casting function turns whatever is inside the paranthesis into an integer. The str() casting function turn whatever is inside the paranthesis into a string. The float() casting function turns anything that is inside the paranthesis into a float.      \n",
    "*Note: If whatever is in the paranthesis cannot be converted to the data type you are trying to caste it to, then you will get an error, like the one in one of the examples below.*"
   ]
  },
  {
   "cell_type": "code",
   "execution_count": 17,
   "metadata": {},
   "outputs": [
    {
     "name": "stdout",
     "output_type": "stream",
     "text": [
      "<class 'str'>\n"
     ]
    }
   ],
   "source": [
    "# Create a variable, number, that is an integer\n",
    "number = 5\n",
    "\n",
    "# Create a variable str_number which will be number casted into a string\n",
    "str_number = str(number)\n",
    "\n",
    "# Print the type of the new variable\n",
    "print(type(str_number))"
   ]
  },
  {
   "cell_type": "code",
   "execution_count": 18,
   "metadata": {},
   "outputs": [
    {
     "name": "stdout",
     "output_type": "stream",
     "text": [
      "<class 'float'>\n"
     ]
    }
   ],
   "source": [
    "# Create a variable, number, that is a number with a decimal point as a string\n",
    "number = \"22.5\"\n",
    "\n",
    "# Create a variable float_number which will be number casted into a float\n",
    "float_number = float(number)\n",
    "\n",
    "# Print the type of the new variable\n",
    "print(type(float_number))"
   ]
  },
  {
   "cell_type": "code",
   "execution_count": 19,
   "metadata": {},
   "outputs": [
    {
     "ename": "ValueError",
     "evalue": "invalid literal for int() with base 10: 'Rodrigo'",
     "output_type": "error",
     "traceback": [
      "\u001b[1;31m---------------------------------------------------------------------------\u001b[0m",
      "\u001b[1;31mValueError\u001b[0m                                Traceback (most recent call last)",
      "\u001b[1;32m<ipython-input-19-f9cc0491d163>\u001b[0m in \u001b[0;36m<module>\u001b[1;34m()\u001b[0m\n\u001b[0;32m      3\u001b[0m \u001b[1;33m\u001b[0m\u001b[0m\n\u001b[0;32m      4\u001b[0m \u001b[1;31m# Try to print out name as an integer (will give an error)\u001b[0m\u001b[1;33m\u001b[0m\u001b[1;33m\u001b[0m\u001b[0m\n\u001b[1;32m----> 5\u001b[1;33m \u001b[0mprint\u001b[0m\u001b[1;33m(\u001b[0m\u001b[0mint\u001b[0m\u001b[1;33m(\u001b[0m\u001b[0mname\u001b[0m\u001b[1;33m)\u001b[0m\u001b[1;33m)\u001b[0m\u001b[1;33m\u001b[0m\u001b[0m\n\u001b[0m",
      "\u001b[1;31mValueError\u001b[0m: invalid literal for int() with base 10: 'Rodrigo'"
     ]
    }
   ],
   "source": [
    "# Create a variable, name, with my name\n",
    "name = \"Rodrigo\"\n",
    "\n",
    "# Try to print out name as an integer (will give an error)\n",
    "print(int(name))"
   ]
  },
  {
   "cell_type": "markdown",
   "metadata": {},
   "source": [
    "## Module 3 Section 5 - Math Operators\n",
    "### Basic Math Operations\n",
    "Python includes math operations like: addition, subtraction, multiplication, and division. In Python, just like in math, order of operations does matter. Python will give an output taking in mind the order of operations.     \n",
    "You can evaluate equations in two different ways: you can type out the equation without a print statement or with a print statement."
   ]
  },
  {
   "cell_type": "code",
   "execution_count": 20,
   "metadata": {},
   "outputs": [
    {
     "data": {
      "text/plain": [
       "27"
      ]
     },
     "execution_count": 20,
     "metadata": {},
     "output_type": "execute_result"
    }
   ],
   "source": [
    "# Equation without print()\n",
    "3 + 8 * (5 - 2)"
   ]
  },
  {
   "cell_type": "code",
   "execution_count": 21,
   "metadata": {},
   "outputs": [
    {
     "name": "stdout",
     "output_type": "stream",
     "text": [
      "24.0\n"
     ]
    }
   ],
   "source": [
    "# Equation with print()\n",
    "print((15 - 3) * (8 / 4))"
   ]
  },
  {
   "cell_type": "markdown",
   "metadata": {},
   "source": [
    "As you see from the above example, anytime you use the division operator your output with always be a float, even if it is a whole number."
   ]
  },
  {
   "cell_type": "code",
   "execution_count": null,
   "metadata": {},
   "outputs": [],
   "source": []
  }
 ],
 "metadata": {
  "kernelspec": {
   "display_name": "Python 3",
   "language": "python",
   "name": "python3"
  },
  "language_info": {
   "codemirror_mode": {
    "name": "ipython",
    "version": 3
   },
   "file_extension": ".py",
   "mimetype": "text/x-python",
   "name": "python",
   "nbconvert_exporter": "python",
   "pygments_lexer": "ipython3",
   "version": "3.6.4"
  }
 },
 "nbformat": 4,
 "nbformat_minor": 2
}
